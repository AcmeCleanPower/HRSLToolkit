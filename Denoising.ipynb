{
 "cells": [
  {
   "cell_type": "markdown",
   "metadata": {},
   "source": [
    "# Map Denoising"
   ]
  },
  {
   "cell_type": "code",
   "execution_count": 1,
   "metadata": {
    "collapsed": true
   },
   "outputs": [],
   "source": [
    "import numpy as np\n",
    "from scipy import ndimage\n",
    "import matplotlib.pyplot as plt\n",
    "import pandas as pd\n",
    "%matplotlib inline"
   ]
  },
  {
   "cell_type": "code",
   "execution_count": 2,
   "metadata": {
    "collapsed": false
   },
   "outputs": [],
   "source": [
    "import gdal"
   ]
  },
  {
   "cell_type": "code",
   "execution_count": 3,
   "metadata": {
    "collapsed": false
   },
   "outputs": [],
   "source": [
    "import analysis\n",
    "import tiff_tools\n",
    "import clean"
   ]
  },
  {
   "cell_type": "code",
   "execution_count": 4,
   "metadata": {
    "collapsed": false
   },
   "outputs": [],
   "source": [
    "mr = tiff_tools.read_array_from_tiff('madagascar_radiance.tif')"
   ]
  },
  {
   "cell_type": "code",
   "execution_count": 5,
   "metadata": {
    "collapsed": false
   },
   "outputs": [
    {
     "data": {
      "text/plain": [
       "(3278, 1748)"
      ]
     },
     "execution_count": 5,
     "metadata": {},
     "output_type": "execute_result"
    }
   ],
   "source": [
    "mr.shape"
   ]
  },
  {
   "cell_type": "code",
   "execution_count": 6,
   "metadata": {
    "collapsed": false
   },
   "outputs": [
    {
     "data": {
      "text/plain": [
       "array([[ 0.01114281, -0.04328433, -0.07122467, ...,  0.02739303,\n",
       "        -0.03673399, -0.02228889],\n",
       "       [ 0.01254242, -0.0290554 , -0.07626159, ...,  0.01586532,\n",
       "        -0.02197821, -0.00279654],\n",
       "       [ 0.0082627 ,  0.0210816 , -0.01039048, ..., -0.03240199,\n",
       "        -0.03474797, -0.03121922],\n",
       "       ..., \n",
       "       [-0.02398039, -0.01895474, -0.03395223, ..., -0.02395865,\n",
       "        -0.03237825,  0.0066179 ],\n",
       "       [-0.01816768, -0.03814969, -0.00287697, ..., -0.02490784,\n",
       "        -0.03815098, -0.01080094],\n",
       "       [-0.01779588, -0.0586005 , -0.0125525 , ..., -0.00307239,\n",
       "        -0.02240413,  0.0004608 ]], dtype=float32)"
      ]
     },
     "execution_count": 6,
     "metadata": {},
     "output_type": "execute_result"
    }
   ],
   "source": [
    "mr"
   ]
  },
  {
   "cell_type": "code",
   "execution_count": 7,
   "metadata": {
    "collapsed": false
   },
   "outputs": [],
   "source": [
    "med_denoised = clean.med_filter(mr, 8)"
   ]
  },
  {
   "cell_type": "code",
   "execution_count": 8,
   "metadata": {
    "collapsed": false
   },
   "outputs": [
    {
     "data": {
      "text/plain": [
       "array([[-0.0290554 , -0.0290554 , -0.02316924, ..., -0.01978223,\n",
       "        -0.01978223, -0.01978223],\n",
       "       [-0.0290554 , -0.01062287, -0.01062287, ..., -0.02117681,\n",
       "        -0.02197821, -0.01978223],\n",
       "       [-0.02965542, -0.0290554 , -0.02316924, ..., -0.01585291,\n",
       "        -0.01585291, -0.01356217],\n",
       "       ..., \n",
       "       [-0.01895474, -0.01816768, -0.01779588, ..., -0.01518897,\n",
       "        -0.01518897, -0.01844191],\n",
       "       [-0.01816768, -0.01816768, -0.01779588, ..., -0.01844191,\n",
       "        -0.01844191, -0.02240413],\n",
       "       [-0.01895474, -0.01895474, -0.01816768, ..., -0.01493871,\n",
       "        -0.01341221, -0.01844191]], dtype=float32)"
      ]
     },
     "execution_count": 8,
     "metadata": {},
     "output_type": "execute_result"
    }
   ],
   "source": [
    "med_denoised"
   ]
  },
  {
   "cell_type": "code",
   "execution_count": 9,
   "metadata": {
    "collapsed": false
   },
   "outputs": [
    {
     "name": "stdout",
     "output_type": "stream",
     "text": [
      "[[-11.943617, 43.222910999999996], [-25.59439936607688, 50.49975166475972]]\n",
      "[[43.222910999999996, -11.943617], [50.49975166475972, -25.59439936607688]]\n",
      "[43.222910999999996, -11.943617, 50.49975166475972, -25.59439936607688]\n"
     ]
    }
   ],
   "source": [
    "tiff_tools.save_data_derived_from_tiff('madagascar_radiance.tif',med_denoised,'median.tif',dtype=np.float32)"
   ]
  },
  {
   "cell_type": "code",
   "execution_count": null,
   "metadata": {
    "collapsed": true
   },
   "outputs": [],
   "source": []
  }
 ],
 "metadata": {
  "anaconda-cloud": {},
  "kernelspec": {
   "display_name": "Python [conda env:dsi]",
   "language": "python",
   "name": "conda-env-dsi-py"
  },
  "language_info": {
   "codemirror_mode": {
    "name": "ipython",
    "version": 2
   },
   "file_extension": ".py",
   "mimetype": "text/x-python",
   "name": "python",
   "nbconvert_exporter": "python",
   "pygments_lexer": "ipython2",
   "version": "2.7.13"
  }
 },
 "nbformat": 4,
 "nbformat_minor": 1
}
