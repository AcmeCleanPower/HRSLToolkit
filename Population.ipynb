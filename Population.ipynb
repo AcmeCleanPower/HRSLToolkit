{
 "cells": [
  {
   "cell_type": "code",
   "execution_count": null,
   "metadata": {
    "collapsed": false
   },
   "outputs": [],
   "source": [
    "import analysis\n",
    "import tiff_tools\n",
    "import numpy as np\n",
    "import os"
   ]
  },
  {
   "cell_type": "code",
   "execution_count": 1,
   "metadata": {
    "collapsed": true
   },
   "outputs": [],
   "source": [
    "import vector_tools"
   ]
  },
  {
   "cell_type": "code",
   "execution_count": 3,
   "metadata": {
    "collapsed": false,
    "scrolled": true
   },
   "outputs": [],
   "source": [
    "fin = '../contours/madagascar_radiance_polygon_buffer.shp'\n",
    "fout = '../contours/madagascar_radiance_polygon_buffer_dissolve.shp'\n",
    "\n",
    "shape = vector_tools.dissolve_shapefile(fin)\n",
    "vector_tools.write_dissolved_shapefile(fout, shape)"
   ]
  },
  {
   "cell_type": "code",
   "execution_count": null,
   "metadata": {
    "collapsed": true
   },
   "outputs": [],
   "source": [
    "folder = '../madagascar/hrsl_tiles/'\n",
    "outfolder = '../madagascar/heatmap_tiles/'\n",
    "files = os.listdir(folder)"
   ]
  },
  {
   "cell_type": "code",
   "execution_count": null,
   "metadata": {
    "collapsed": false
   },
   "outputs": [],
   "source": [
    "files.sort()\n",
    "for f in files:\n",
    "    addr=folder+f\n",
    "    if os.path.isfile(outfolder+'%s_pop_log.tif'%f[:-4]):\n",
    "        continue\n",
    "    try:\n",
    "        data = tiff_tools.read_array_from_tiff(addr)\n",
    "    except:\n",
    "        continue\n",
    "    print f\n",
    "    data_km, data_points = analysis.generate_heatmaps_from_population(data)\n",
    "    tiff_tools.save_data_derived_from_tiff(addr, np.log2(data_km),outfolder+'%s_pop_log.tif'%f[:-4], \n",
    "                                       dtype=np.uint8, cmap=tiff_tools.plt.cm.jet)\n",
    "    tiff_tools.save_data_derived_from_tiff(addr, (data_km),outfolder+'%s_pop.tif'%f[:-4], \n",
    "                                       dtype=np.uint16, cmap=tiff_tools.plt.cm.jet,alpha=False)\n",
    "    tiff_tools.save_data_derived_from_tiff(addr, np.log2(data_points),outfolder+'%s_points_log.tif'%f[:-4], \n",
    "                                       dtype=np.uint8, cmap=tiff_tools.plt.cm.jet)\n",
    "    tiff_tools.save_data_derived_from_tiff(addr, (data_points),outfolder+'%s_points.tif'%f[:-4], \n",
    "                                       dtype=np.uint16, cmap=tiff_tools.plt.cm.jet,alpha=False)"
   ]
  },
  {
   "cell_type": "code",
   "execution_count": null,
   "metadata": {
    "collapsed": false
   },
   "outputs": [],
   "source": [
    "\n"
   ]
  },
  {
   "cell_type": "code",
   "execution_count": null,
   "metadata": {
    "collapsed": true
   },
   "outputs": [],
   "source": [
    "x,y = 46.8290748, -20.2793666"
   ]
  },
  {
   "cell_type": "code",
   "execution_count": null,
   "metadata": {
    "collapsed": true
   },
   "outputs": [],
   "source": [
    "y2=-21.6303996"
   ]
  },
  {
   "cell_type": "code",
   "execution_count": null,
   "metadata": {
    "collapsed": false
   },
   "outputs": [],
   "source": [
    "(y-y2) / 0.000270585419939"
   ]
  },
  {
   "cell_type": "code",
   "execution_count": null,
   "metadata": {
    "collapsed": true
   },
   "outputs": [],
   "source": []
  }
 ],
 "metadata": {
  "kernelspec": {
   "display_name": "Python 2",
   "language": "python",
   "name": "python2"
  },
  "language_info": {
   "codemirror_mode": {
    "name": "ipython",
    "version": 2
   },
   "file_extension": ".py",
   "mimetype": "text/x-python",
   "name": "python",
   "nbconvert_exporter": "python",
   "pygments_lexer": "ipython2",
   "version": "2.7.6"
  }
 },
 "nbformat": 4,
 "nbformat_minor": 0
}
